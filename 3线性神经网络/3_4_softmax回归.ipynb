{
 "cells": [
  {
   "attachments": {},
   "cell_type": "markdown",
   "metadata": {},
   "source": [
    "# 3.4 softmax回归"
   ]
  },
  {
   "attachments": {},
   "cell_type": "markdown",
   "metadata": {},
   "source": [
    "# 3.4.1 分类问题\n",
    "# 3.4.2 网络架构\n",
    "# 3.4.3 全连接层的参数开销\n",
    "# 3.4.4 softmax运算\n",
    "# 3.4.5 小批量样本的矢量化\n",
    "# 3.4.6 损失函数\n",
    "    3.4.6.1 对数似然\n",
    "    3.4.6.2 softmax及其导数\n",
    "    3.4.6.3 交叉熵损失\n",
    "# 3.4.7. 信息论基础\n",
    "    3.4.7.1 熵\n",
    "    3.4.7.2 信息量\n",
    "    3.4.7.3 重新审视交叉熵\n",
    "# 3.4.8 模型预测和评估"
   ]
  },
  {
   "attachments": {},
   "cell_type": "markdown",
   "metadata": {},
   "source": [
    "# 3.4.9 小结\n",
    "softmax运算获取一个向量并将其映射为概率。\n",
    "\n",
    "softmax回归适用于分类问题，它使用了softmax运算中输出类别的概率分布。\n",
    "\n",
    "交叉熵是一个衡量两个概率分布之间差异的很好的度量，它测量给定模型编码数据所需的比特数。\n",
    "# 3.4.10 练习"
   ]
  }
 ],
 "metadata": {
  "language_info": {
   "name": "python"
  },
  "orig_nbformat": 4
 },
 "nbformat": 4,
 "nbformat_minor": 2
}
